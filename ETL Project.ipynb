{
 "cells": [
  {
   "cell_type": "code",
   "execution_count": 1,
   "metadata": {},
   "outputs": [],
   "source": [
    "import pandas as pd"
   ]
  },
  {
   "cell_type": "code",
   "execution_count": 6,
   "metadata": {},
   "outputs": [],
   "source": [
    "# Ryan's work\n",
    "df_visitors = pd.read_csv('wh_visitor_logs.csv')\n",
    "visitors = df_visitors[\"Attendees\"]\n",
    "visitors = visitors.dropna(how='any')\n",
    "visitors_df = pd.DataFrame(visitors) \n",
    "named_visitors = visitors_df.loc[visitors_df[\"Attendees\"] != \"(b)(6)\", :]\n",
    "visitors_df2 = named_visitors[\"Attendees\"].str.split(\",\", n=13, expand = True)\n",
    "visitors_df3 = named_visitors[\"Attendees\"].str.split(\",\", n=2, expand = True)\n",
    "del visitors_df3[1]\n",
    "del visitors_df3[2]\n",
    "visitors_df3.rename(columns={0 :'name'}, inplace=True )\n",
    "visitors_df3.set_index('name')\n",
    "visitors_df3.drop_duplicates(keep=False, inplace=True)"
   ]
  },
  {
   "cell_type": "code",
   "execution_count": 9,
   "metadata": {},
   "outputs": [
    {
     "data": {
      "text/html": [
       "<div>\n",
       "<style scoped>\n",
       "    .dataframe tbody tr th:only-of-type {\n",
       "        vertical-align: middle;\n",
       "    }\n",
       "\n",
       "    .dataframe tbody tr th {\n",
       "        vertical-align: top;\n",
       "    }\n",
       "\n",
       "    .dataframe thead th {\n",
       "        text-align: right;\n",
       "    }\n",
       "</style>\n",
       "<table border=\"1\" class=\"dataframe\">\n",
       "  <thead>\n",
       "    <tr style=\"text-align: right;\">\n",
       "      <th></th>\n",
       "    </tr>\n",
       "    <tr>\n",
       "      <th>name</th>\n",
       "    </tr>\n",
       "  </thead>\n",
       "  <tbody>\n",
       "    <tr>\n",
       "      <th>Andrew Beal</th>\n",
       "    </tr>\n",
       "    <tr>\n",
       "      <th>Barron Hilton</th>\n",
       "    </tr>\n",
       "    <tr>\n",
       "      <th>Bruce Kovner</th>\n",
       "    </tr>\n",
       "    <tr>\n",
       "      <th>Cargill MacMillan Jr</th>\n",
       "    </tr>\n",
       "    <tr>\n",
       "      <th>Carl C Icahn</th>\n",
       "    </tr>\n",
       "    <tr>\n",
       "      <th>...</th>\n",
       "    </tr>\n",
       "    <tr>\n",
       "      <th>Waldo McMillan</th>\n",
       "    </tr>\n",
       "    <tr>\n",
       "      <th>Weston J Coulam</th>\n",
       "    </tr>\n",
       "    <tr>\n",
       "      <th>William F Sweetnam Jr</th>\n",
       "    </tr>\n",
       "    <tr>\n",
       "      <th>William McKenney</th>\n",
       "    </tr>\n",
       "    <tr>\n",
       "      <th>Zahra Buck</th>\n",
       "    </tr>\n",
       "  </tbody>\n",
       "</table>\n",
       "<p>308 rows × 0 columns</p>\n",
       "</div>"
      ],
      "text/plain": [
       "Empty DataFrame\n",
       "Columns: []\n",
       "Index: [Andrew Beal, Barron Hilton, Bruce Kovner, Cargill MacMillan Jr, Carl C Icahn, Charles B Johnson, Charles Butt, Charles G. Koch, Dan Duncan, Daniel D'Aniello, Daniel Och, Daniel Ziff, David Elliot Shaw, David Koch, David Murdock, David Rubenstein, David Tepper, Dennis R Washington, Dirk Ziff, Donald Bren, Donald Schneider, Eddie Lampert, George Kaiser, George Roberts, George Soros, Harold G Hamm, Harold Simmons, Henry R Kravis, Ira Rennert, James H. Simons, John A Paulson, John Arnold, John Sobrato, Julian Robertson Jr, Kenneth Griffin, Leon D Black, Malcolm Glazer, Marion MacMillan Pictet, Michael Milken, Paul Milstein, Paul Tudor Jones II, Pauline MacMillan Keinath, Peter G Peterson, Peter R Kellogg, Philip Falcone, R. Earl Holding, Ray Dalio, Richard Kinder, Richard S LeFrak, Robert Ziff, Ronald Perelman, Ronald W Burkle, Rupert H Johnson Jr, Sam Zell, Sheldon G Adelson, Stan Kroenke, Stanley Druckenmiller, Stephen M Ross, Stephen Schwarzman, Steve Wynn, Steven A Cohen, Theodore Lerner, Timothy Headington, Whitney MacMillan, William E Conway Jr, William Gross, Adam J Wojciak, Alexander Beckles, Alexander Sternhell, Alisa Ferguson, Amy Swonger, Andrew H Barbour, Andrew Lewin, Andrew Lowenthal, Andy Davis, Angela Becker-Dippmann, Anne Phelps, Ashley Slater, Barry Lasala, Beau Schuyler, Ben Dupuy, Brant Imperatore, Brendon Weiss, Brian Griffin, Broderick Johnson, Carmencita Whonder, Carter McDowell, Carter Phillips, Casey Sixkiller, Charles M Brain, Christine Burgeson, Christine L Vaughn, Christopher Hatcher, Christopher Javens, Cristeena Naser, Cristina Antelo, Daniel Archer, Daniel Kohns, Daniel Meyer, David Crane, ...]\n",
       "\n",
       "[308 rows x 0 columns]"
      ]
     },
     "execution_count": 9,
     "metadata": {},
     "output_type": "execute_result"
    }
   ],
   "source": [
    "# Ryan's work\n",
    "df_cats = pd.read_csv('fatcats.csv')\n",
    "del df_cats['id']\n",
    "del df_cats['blurb']\n",
    "del df_cats['types']\n",
    "df_cats.set_index('name')\n",
    "##\n",
    "df_lobs = pd.read_csv('lobbyists.csv')\n",
    "del df_lobs['id']\n",
    "del df_lobs['blurb']\n",
    "del df_lobs['types']\n",
    "df_lobs.set_index('name')\n",
    "##\n",
    "df_catslobs = df_cats.append(df_lobs, ignore_index=True)\n",
    "df_catslobs.set_index('name')"
   ]
  },
  {
   "cell_type": "code",
   "execution_count": 11,
   "metadata": {},
   "outputs": [],
   "source": [
    "tweets=pd.read_csv('archive_test.csv')\n",
    "tweet_text=list(tweets.text.unique())"
   ]
  },
  {
   "cell_type": "code",
   "execution_count": 30,
   "metadata": {},
   "outputs": [],
   "source": [
    "dict_={}"
   ]
  },
  {
   "cell_type": "code",
   "execution_count": 47,
   "metadata": {},
   "outputs": [],
   "source": [
    "def search(name):\n",
    "    dict_=dict()\n",
    "    for i in tweet_text:\n",
    "        if str(i).find(name)>0:\n",
    "            dict_.setdefault(name, []).append(i)"
   ]
  },
  {
   "cell_type": "code",
   "execution_count": 48,
   "metadata": {},
   "outputs": [],
   "source": [
    "cats=list(df_catslobs.name.unique())\n",
    "visitors=list(visitors_df3.name.unique())"
   ]
  },
  {
   "cell_type": "code",
   "execution_count": 49,
   "metadata": {},
   "outputs": [],
   "source": [
    "for name in cats:\n",
    "    dict_0=dict_\n",
    "    search(name)\n"
   ]
  },
  {
   "cell_type": "code",
   "execution_count": 51,
   "metadata": {},
   "outputs": [
    {
     "data": {
      "text/plain": [
       "['With terrific Steve Wynn at dinner last night. http://t.co/Tahju7mAHu',\n",
       " 'With terrific Steve Wynn at dinner last night. http://t.co/Tahju7mAHu',\n",
       " 'With terrific Steve Wynn at dinner last night. http://t.co/Tahju7mAHu']"
      ]
     },
     "execution_count": 51,
     "metadata": {},
     "output_type": "execute_result"
    }
   ],
   "source": [
    "dict_0.get('Steve Wynn')"
   ]
  },
  {
   "cell_type": "code",
   "execution_count": 35,
   "metadata": {},
   "outputs": [
    {
     "name": "stdout",
     "output_type": "stream",
     "text": [
      "dict_keys(['Barron Hilton', 'David Koch', 'David Rubenstein', 'Sam Zell', 'Steve Wynn'])\n"
     ]
    }
   ],
   "source": [
    "def getList(dict_0): \n",
    "    return dict_0.keys()\n",
    "print(getList(dict_0))"
   ]
  },
  {
   "cell_type": "code",
   "execution_count": 37,
   "metadata": {},
   "outputs": [],
   "source": [
    "for name in visitors:\n",
    "    dict_1=dict_\n",
    "    search(name)"
   ]
  },
  {
   "cell_type": "code",
   "execution_count": 38,
   "metadata": {},
   "outputs": [
    {
     "name": "stdout",
     "output_type": "stream",
     "text": [
      "dict_keys(['Barron Hilton', 'David Koch', 'David Rubenstein', 'Sam Zell', 'Steve Wynn', 'George Will', 'Ricardo Rossello', 'Dana Rohrabacher', 'Steve Scalise', 'Hugh Hewitt', 'Rex Tillerson', 'Brian Kilmeade', 'Ben Carson', 'Sean Spicer', 'Bill Gates', 'Chuck Todd', 'Jeff Bell', 'Larry Kudlow', 'Richard Burr', 'Rick Scott', 'Jamie Dimon', 'John Dickerson', 'Pat Roberts', 'Henry McMaster', 'Heidi Heitkamp', 'Ron Johnson', 'Cathy McMorris Rodgers', 'Roger Williams', 'Bernie Sanders', 'Randy Weber', 'David Shulkin', 'Keith Rothfus', 'Bob Dole', 'Mac Thornberry', 'Donald Trump', 'Kevin Hassett', 'Scott Pruitt', 'Kim Reynolds', 'Rob Portman', 'Sonny Perdue', 'Eric Cantor', 'Newt Gingrich', 'John Carter', 'Cory Gardner', 'Bob Corker', 'Matt Gaetz', 'Elaine Chao', 'Heather Wilson', 'Angela Me', 'Tim Ryan', 'Hogan', 'Sandra', 'Loeb', 'Roe', 'Lira', 'Urban', 'Anthony', 'Sate', 'Bluff', 'Snyder', 'Grove', 'Greg', 'Bedard', 'Collins', 'Campbell', 'Leppert', 'Walter', 'Rend', 'Schnabel', 'Ingram', 'James', 'Clarke', 'Sarah', 'Brothers', 'Owen', 'Nieto', 'Lei', 'Babb', 'Nelson', 'Carroll', 'Fawley', 'Deutsch', 'Duffy', 'Sparks', 'Pey', 'Cannizzaro', 'Epstein', 'Blake', 'Bocian', 'Steward', 'McCullough', 'French', 'Pho', 'Barrett', 'Wagner', 'Parker', 'York', 'Greenland', 'Carson', 'Blackburn', 'Cho', 'Marcos', 'Kinne', 'Sunday', 'Yu', 'Spears', 'Gary', 'Bless', 'Lytle', 'Coffin', 'Wyman', 'Sanders', 'Owens', 'River', 'Greenblatt', 'Pollack', 'Phillips', 'Lambert', 'Sheehan', 'Dennis ', 'Peterson', 'Weber', 'Sutton', 'Framer', 'Erb', 'Day', 'Greenberg', 'Weston', 'Clement', 'Stamps', 'New', 'Lester', 'Abou', 'Hicks', 'Hick', 'Joy', 'Salmon', 'Elliott', 'Kennedy', 'Upton', 'Scruggs', 'Mamu', 'Tamara Scott', 'Drake', 'Wright', 'Scott', 'Provost', 'Ballard', 'Ratcliff', 'Gibson', 'Flowers', 'Paul F.', 'You', 'Richard', 'Lao', 'Jensen', 'Fischer', 'Jenkins', 'Quintana', 'Garcia', 'Rico', 'McGuire', 'Blume', 'Burt', 'Foreman', 'Ung', 'Boud', 'Willis', 'Yep', 'Warren', 'Elms', 'Padilla', 'Ya', 'Donnelly', 'Robinson', 'Picardi', 'Foley', 'Burr', 'Shah', 'Brook', 'Cline', 'Wells', 'Ricks', 'Tappan', 'Finch', 'Shannon', 'Baum', 'McManus', 'Cramer', 'Braun', 'Deane', 'Jha', 'Cas', 'Goldberg', 'Strait', 'Salley', 'David', 'Summers', 'Kare', \"O'Rourke\", 'Garvey', 'Rawlings', 'Reese', 'MacFarlane', 'Stephens', 'Nova', 'Greenwood', 'Shields', 'Craft', 'John', 'Fargo', 'Pena', 'Gonzalez', 'Ivory', 'Everett', 'Dr', 'Phan', 'Fields', 'Ronald', 'Ahrens', 'McGregor', 'Locke', 'Priest', 'Stacy', 'Mayo', 'Shelton', 'Metcalf', 'McCall', 'Kizer', 'Coppola', 'Maguire', 'Huff', 'Currie', 'Pier', 'Lauri', \"O'Donnell\", 'Sullivan', 'Lane', 'Mullen', 'Polk', 'Cork', 'Adams', 'Pine', 'Berry', 'Reeves', 'Kathryn S', 'Gregory', 'Cotton', 'Rodriguez ', 'Graham', 'Yun', 'Dillard', 'Dell', 'Farber', 'Loro', 'Hernandez', 'Carney', 'Turner', 'Fox', 'Nichols', 'Wood', 'Carnegie', 'Band', 'Amir', 'Zambrano', 'Gomez', 'Evans', 'Marino', 'Davenport', 'Block', 'Madden', 'List'])\n"
     ]
    }
   ],
   "source": [
    "def getList(dict_1): \n",
    "    return dict_1.keys()\n",
    "print(getList(dict_1))"
   ]
  },
  {
   "cell_type": "code",
   "execution_count": null,
   "metadata": {},
   "outputs": [],
   "source": []
  },
  {
   "cell_type": "code",
   "execution_count": null,
   "metadata": {},
   "outputs": [],
   "source": []
  }
 ],
 "metadata": {
  "kernelspec": {
   "display_name": "Python 3",
   "language": "python",
   "name": "python3"
  }
 },
 "nbformat": 4,
 "nbformat_minor": 2
}
